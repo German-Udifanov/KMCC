{
 "cells": [
  {
   "cell_type": "markdown",
   "id": "1875d9bd",
   "metadata": {},
   "source": [
    "# Практика 12\n"
   ]
  },
  {
   "cell_type": "markdown",
   "id": "b4153711",
   "metadata": {},
   "source": [
    "Линейный конгруэнтный метод генерации псевдослучайных чисел \n",
    "заключается в следующем. Выбирается произвольное число 𝑥0, а каждое \n",
    "следующее вычисляется по формуле\n",
    "𝑥𝑘 = (𝑎 ∗ 𝑥𝑘 − 1 + 𝑏) 𝑚𝑜𝑑 𝑚,\n",
    "где коэффициенты выбраны особым образом. Например, a = 1664525, b \n",
    "= 1013904223, m = 232.\n",
    "Определить рекурсивную функцию, выводящую на экран n \n",
    "псевдослучайных чисел для заданного 𝑥0"
   ]
  },
  {
   "cell_type": "code",
   "execution_count": 3,
   "id": "d054892d",
   "metadata": {},
   "outputs": [
    {
     "name": "stdout",
     "output_type": "stream",
     "text": [
      "Задайте начальное значение\n",
      "42\n",
      "Задайте Количество псевдослучайных чисел, которые нужно сгенерировать\n",
      "10\n",
      "57\n",
      "92\n",
      "19\n",
      "158\n",
      "173\n",
      "208\n",
      "135\n",
      "42\n",
      "57\n",
      "92\n"
     ]
    }
   ],
   "source": [
    "def linear_congruential_generator(x0, n):\n",
    "    a = 1664525\n",
    "    b = 1013904223\n",
    "    m = 232\n",
    "\n",
    "    if n == 0:\n",
    "        return\n",
    "    else:\n",
    "        x = (a * x0 + b) % m\n",
    "        print(x)\n",
    "        linear_congruential_generator(x, n-1)\n",
    "\n",
    "print(\"Задайте начальное значение\")\n",
    "x0 = int(input())\n",
    "\n",
    "print(\"Задайте Количество псевдослучайных чисел, которые нужно сгенерировать\")\n",
    "n = int(input())\n",
    "linear_congruential_generator(x0, n)"
   ]
  },
  {
   "cell_type": "code",
   "execution_count": null,
   "id": "cd270231",
   "metadata": {},
   "outputs": [],
   "source": []
  }
 ],
 "metadata": {
  "kernelspec": {
   "display_name": "Python 3 (ipykernel)",
   "language": "python",
   "name": "python3"
  },
  "language_info": {
   "codemirror_mode": {
    "name": "ipython",
    "version": 3
   },
   "file_extension": ".py",
   "mimetype": "text/x-python",
   "name": "python",
   "nbconvert_exporter": "python",
   "pygments_lexer": "ipython3",
   "version": "3.11.5"
  }
 },
 "nbformat": 4,
 "nbformat_minor": 5
}
