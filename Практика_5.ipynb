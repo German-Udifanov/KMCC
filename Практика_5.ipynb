{
 "cells": [
  {
   "cell_type": "markdown",
   "id": "37973c19",
   "metadata": {},
   "source": [
    "Решить систему линейных алгебраических уравнений методом Гаусса \n",
    "(схема единственного деления)\n"
   ]
  },
  {
   "cell_type": "code",
   "execution_count": 5,
   "id": "09054904",
   "metadata": {},
   "outputs": [
    {
     "name": "stdout",
     "output_type": "stream",
     "text": [
      "Решение системы:\n",
      "[1. 2. 3.]\n"
     ]
    }
   ],
   "source": [
    "import numpy as np\n",
    "def gauss_elimination(Matrix_A, vector_B):\n",
    "    n = len(vector_B)\n",
    "    \n",
    "    for i in range(n):\n",
    "        max_index = i\n",
    "        for j in range(i+1, n):\n",
    "            if abs((Matrix_A[j, i]) > abs(Matrix_A[max_index, i])):\n",
    "                   max_index = j\n",
    "                   \n",
    "                #Этот блок кода выполняет шаги метода Гаусса для приведения матрицы A к треугольному виду. \n",
    "                #Внешний цикл for итерируется по каждой строке матрицы. \n",
    "                #Внутренний цикл for ищет максимальный элемент в столбце и сохраняет его индекс в переменной max_index.\n",
    "                \n",
    "        Matrix_A[[i, max_index]] = Matrix_A[[max_index, i]]\n",
    "        vector_B[[i, max_index]] = vector_B[[max_index, i]]\n",
    "        #Перестановка строк матрицы A и вектора B, чтобы поместить максимальный элемент в верхнюю часть столбца.\n",
    "        \n",
    "                   \n",
    "        for j in range(i+1, n):\n",
    "            factor = Matrix_A[j, i] / Matrix_A[i, i]\n",
    "            Matrix_A[j, i:] -= factor * Matrix_A[i, i:]\n",
    "            vector_B[j] -= factor * vector_B[i]\n",
    "        #Приведение матрицы A к треугольному виду путем вычитания кратного первого уравнения из остальных уравнений.\n",
    "    X = np.zeros(n)\n",
    "    for i in range(n-1, -1, -1):\n",
    "        X[i] = (vector_B[i] - np.dot(Matrix_A[i, i+1:], X[i+1:])) / Matrix_A[i, i]\n",
    "    #Выполняется обратный ход метода Гаусса для нахождения решения системы линейных уравнений. \n",
    "    #Он итерируется по строкам матрицы A в обратном порядке и вычисляет значения неизвестных X \n",
    "    #с использованием уже найденных значений.\n",
    "    return X\n",
    "                   \n",
    "Matrix_A = np.array([[2.0, 1.0, 4.0],\n",
    "              [3.0, 2.0, 1.0],\n",
    "              [1.0, 3.0, 3.0]])\n",
    "\n",
    "vector_B = np.array([16.0, 10.0, 16.0])\n",
    "\n",
    "X = gauss_elimination(Matrix_A, vector_B)\n",
    "print(\"Решение системы:\")\n",
    "print(X)"
   ]
  },
  {
   "cell_type": "markdown",
   "id": "e2389507",
   "metadata": {},
   "source": [
    "Методом Гаусса с выбором ведущего элемента по столбцам решить \n",
    "систему:"
   ]
  },
  {
   "cell_type": "code",
   "execution_count": 9,
   "id": "c66d86cf",
   "metadata": {},
   "outputs": [
    {
     "name": "stdout",
     "output_type": "stream",
     "text": [
      "Решение системы:\n",
      "[ 0.24057714 -0.34368163  0.89068653]\n"
     ]
    }
   ],
   "source": [
    "Matrix_A = np.array([[-3.0, 2.099, 6.0],\n",
    "              [10.0, 7.0, 0.0],\n",
    "              [5.0, -1.0, 5.0]])\n",
    "\n",
    "vector_B = np.array([3.901, 0.0, 6.0])\n",
    "\n",
    "X = gauss_elimination(Matrix_A, vector_B)\n",
    "print(\"Решение системы:\")\n",
    "print(X)"
   ]
  },
  {
   "cell_type": "markdown",
   "id": "31780e7a",
   "metadata": {},
   "source": [
    " Решить систему уравнений методом Гаусса единственного деления"
   ]
  },
  {
   "cell_type": "code",
   "execution_count": 8,
   "id": "4596bfb0",
   "metadata": {},
   "outputs": [
    {
     "ename": "ValueError",
     "evalue": "shapes (1,) and (0,) not aligned: 1 (dim 0) != 0 (dim 0)",
     "output_type": "error",
     "traceback": [
      "\u001b[1;31m---------------------------------------------------------------------------\u001b[0m",
      "\u001b[1;31mValueError\u001b[0m                                Traceback (most recent call last)",
      "Input \u001b[1;32mIn [8]\u001b[0m, in \u001b[0;36m<cell line: 7>\u001b[1;34m()\u001b[0m\n\u001b[0;32m      1\u001b[0m Matrix_A \u001b[38;5;241m=\u001b[39m np\u001b[38;5;241m.\u001b[39marray([[\u001b[38;5;241m1.0\u001b[39m, \u001b[38;5;241m-\u001b[39m\u001b[38;5;241m1.0\u001b[39m, \u001b[38;5;241m1.0\u001b[39m, \u001b[38;5;241m-\u001b[39m\u001b[38;5;241m4.0\u001b[39m],\n\u001b[0;32m      2\u001b[0m               [\u001b[38;5;241m8.0\u001b[39m, \u001b[38;5;241m-\u001b[39m\u001b[38;5;241m1.0\u001b[39m, \u001b[38;5;241m-\u001b[39m\u001b[38;5;241m1.0\u001b[39m, \u001b[38;5;241m2.0\u001b[39m],\n\u001b[0;32m      3\u001b[0m               [\u001b[38;5;241m1.0\u001b[39m, \u001b[38;5;241m6.0\u001b[39m, \u001b[38;5;241m-\u001b[39m\u001b[38;5;241m2.0\u001b[39m, \u001b[38;5;241m-\u001b[39m\u001b[38;5;241m2.0\u001b[39m]])\n\u001b[0;32m      5\u001b[0m vector_B \u001b[38;5;241m=\u001b[39m np\u001b[38;5;241m.\u001b[39marray([\u001b[38;5;241m2.0\u001b[39m, \u001b[38;5;241m11.0\u001b[39m,\u001b[38;5;241m-\u001b[39m\u001b[38;5;241m7.0\u001b[39m])\n\u001b[1;32m----> 7\u001b[0m X \u001b[38;5;241m=\u001b[39m \u001b[43mgauss_elimination\u001b[49m\u001b[43m(\u001b[49m\u001b[43mMatrix_A\u001b[49m\u001b[43m,\u001b[49m\u001b[43m \u001b[49m\u001b[43mvector_B\u001b[49m\u001b[43m)\u001b[49m\n\u001b[0;32m      8\u001b[0m \u001b[38;5;28mprint\u001b[39m(\u001b[38;5;124m\"\u001b[39m\u001b[38;5;124mРешение системы:\u001b[39m\u001b[38;5;124m\"\u001b[39m)\n\u001b[0;32m      9\u001b[0m \u001b[38;5;28mprint\u001b[39m(X)\n",
      "Input \u001b[1;32mIn [5]\u001b[0m, in \u001b[0;36mgauss_elimination\u001b[1;34m(Matrix_A, vector_B)\u001b[0m\n\u001b[0;32m     25\u001b[0m X \u001b[38;5;241m=\u001b[39m np\u001b[38;5;241m.\u001b[39mzeros(n)\n\u001b[0;32m     26\u001b[0m \u001b[38;5;28;01mfor\u001b[39;00m i \u001b[38;5;129;01min\u001b[39;00m \u001b[38;5;28mrange\u001b[39m(n\u001b[38;5;241m-\u001b[39m\u001b[38;5;241m1\u001b[39m, \u001b[38;5;241m-\u001b[39m\u001b[38;5;241m1\u001b[39m, \u001b[38;5;241m-\u001b[39m\u001b[38;5;241m1\u001b[39m):\n\u001b[1;32m---> 27\u001b[0m     X[i] \u001b[38;5;241m=\u001b[39m (vector_B[i] \u001b[38;5;241m-\u001b[39m \u001b[43mnp\u001b[49m\u001b[38;5;241;43m.\u001b[39;49m\u001b[43mdot\u001b[49m\u001b[43m(\u001b[49m\u001b[43mMatrix_A\u001b[49m\u001b[43m[\u001b[49m\u001b[43mi\u001b[49m\u001b[43m,\u001b[49m\u001b[43m \u001b[49m\u001b[43mi\u001b[49m\u001b[38;5;241;43m+\u001b[39;49m\u001b[38;5;241;43m1\u001b[39;49m\u001b[43m:\u001b[49m\u001b[43m]\u001b[49m\u001b[43m,\u001b[49m\u001b[43m \u001b[49m\u001b[43mX\u001b[49m\u001b[43m[\u001b[49m\u001b[43mi\u001b[49m\u001b[38;5;241;43m+\u001b[39;49m\u001b[38;5;241;43m1\u001b[39;49m\u001b[43m:\u001b[49m\u001b[43m]\u001b[49m\u001b[43m)\u001b[49m) \u001b[38;5;241m/\u001b[39m Matrix_A[i, i]\n\u001b[0;32m     28\u001b[0m \u001b[38;5;66;03m#Выполняется обратный ход метода Гаусса для нахождения решения системы линейных уравнений. \u001b[39;00m\n\u001b[0;32m     29\u001b[0m \u001b[38;5;66;03m#Он итерируется по строкам матрицы A в обратном порядке и вычисляет значения неизвестных X \u001b[39;00m\n\u001b[0;32m     30\u001b[0m \u001b[38;5;66;03m#с использованием уже найденных значений.\u001b[39;00m\n\u001b[0;32m     31\u001b[0m \u001b[38;5;28;01mreturn\u001b[39;00m X\n",
      "File \u001b[1;32m<__array_function__ internals>:5\u001b[0m, in \u001b[0;36mdot\u001b[1;34m(*args, **kwargs)\u001b[0m\n",
      "\u001b[1;31mValueError\u001b[0m: shapes (1,) and (0,) not aligned: 1 (dim 0) != 0 (dim 0)"
     ]
    }
   ],
   "source": [
    "Matrix_A = np.array([[1.0, -1.0, 1.0, -4.0],\n",
    "              [8.0, -1.0, -1.0, 2.0],\n",
    "              [1.0, 6.0, -2.0, -2.0]])\n",
    "\n",
    "vector_B = np.array([2.0, 11.0,-7.0])\n",
    "\n",
    "X = gauss_elimination(Matrix_A, vector_B)\n",
    "print(\"Решение системы:\")\n",
    "print(X)"
   ]
  },
  {
   "cell_type": "code",
   "execution_count": null,
   "id": "4e42b06c",
   "metadata": {},
   "outputs": [],
   "source": []
  }
 ],
 "metadata": {
  "kernelspec": {
   "display_name": "Python 3 (ipykernel)",
   "language": "python",
   "name": "python3"
  },
  "language_info": {
   "codemirror_mode": {
    "name": "ipython",
    "version": 3
   },
   "file_extension": ".py",
   "mimetype": "text/x-python",
   "name": "python",
   "nbconvert_exporter": "python",
   "pygments_lexer": "ipython3",
   "version": "3.9.12"
  }
 },
 "nbformat": 4,
 "nbformat_minor": 5
}
