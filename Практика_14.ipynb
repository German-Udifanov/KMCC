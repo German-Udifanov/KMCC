{
 "cells": [
  {
   "cell_type": "markdown",
   "id": "f071e2f9",
   "metadata": {},
   "source": [
    "# Практика 14"
   ]
  },
  {
   "cell_type": "markdown",
   "id": "c21ebe91",
   "metadata": {},
   "source": [
    "Построить конечный автомат, распознающий последовательности из \n",
    "нулей и единиц, содержащие чётное число единиц и не содержащие единиц, \n",
    "идущих подряд друг за другом.\n",
    "Примеры\n",
    "00000 — принять\n",
    "01000 — не принимать (нечётное число единиц)\n",
    "00011 — не принимать (две единицы подряд)\n",
    "10100 — принять\n",
    "10110 — не принимать (нечётное число единиц и две единицы подряд"
   ]
  },
  {
   "cell_type": "code",
   "execution_count": 1,
   "id": "25614870",
   "metadata": {},
   "outputs": [
    {
     "name": "stdout",
     "output_type": "stream",
     "text": [
      "False\n",
      "False\n",
      "True\n",
      "False\n",
      "False\n"
     ]
    }
   ],
   "source": [
    "def recognize_sequence(sequence):\n",
    "    state = 'S0'\n",
    "    for symbol in sequence:\n",
    "        if state == 'S0':\n",
    "            if symbol == '0':\n",
    "                state = 'S0'\n",
    "            elif symbol == '1':\n",
    "                state = 'S1'\n",
    "        elif state == 'S1':\n",
    "            if symbol == '0':\n",
    "                state = 'S2'\n",
    "            elif symbol == '1':\n",
    "                state = 'S1'\n",
    "        elif state == 'S2':\n",
    "            return False\n",
    "    return state == 'S1'\n",
    "\n",
    "# Примеры использования\n",
    "print(recognize_sequence('00000'))  # принять\n",
    "print(recognize_sequence('01000'))  # не принимать (нечётное число единиц)\n",
    "print(recognize_sequence('00011'))  # не принимать (две единицы подряд)\n",
    "print(recognize_sequence('10100'))  # принять\n",
    "print(recognize_sequence('10110'))  # не принимать (нечётное число единиц и две единицы подряд)"
   ]
  },
  {
   "cell_type": "code",
   "execution_count": null,
   "id": "5b672eef",
   "metadata": {},
   "outputs": [],
   "source": []
  }
 ],
 "metadata": {
  "kernelspec": {
   "display_name": "Python 3 (ipykernel)",
   "language": "python",
   "name": "python3"
  },
  "language_info": {
   "codemirror_mode": {
    "name": "ipython",
    "version": 3
   },
   "file_extension": ".py",
   "mimetype": "text/x-python",
   "name": "python",
   "nbconvert_exporter": "python",
   "pygments_lexer": "ipython3",
   "version": "3.11.5"
  }
 },
 "nbformat": 4,
 "nbformat_minor": 5
}
