{
 "cells": [
  {
   "cell_type": "markdown",
   "id": "1530934b",
   "metadata": {},
   "source": [
    "# Практика 10"
   ]
  },
  {
   "cell_type": "markdown",
   "id": "deaa90aa",
   "metadata": {},
   "source": [
    "Задание 1"
   ]
  },
  {
   "cell_type": "markdown",
   "id": "c23a0c08",
   "metadata": {},
   "source": [
    "Пусть дана ось с отмеченными на ней целочисленными точками. \n",
    "Предположим, что Чиполлино спрятался в точке 0, в точке N находится \n",
    "пропасть, и сыщик Моркоу находится в точке k (0 < k < N). Сыщик ищет \n",
    "Чиполлино случайным образом, блуждая по соседним целочисленным точкам. \n",
    "Если он попадет в точку 0, то найдет Чиполлино, а если попадет в точку N, то \n",
    "свалится в пропасть. С какой вероятностью сыщик найдет Чиполлино?\n",
    "Под вероятностью какого-либо события (P) мы будем понимать \n",
    "предельное значение частоты события, а именно, отношения числа успешных \n",
    "(приведших к появлению данного события) испытаний (Nу) к общему числу \n",
    "проведенных испытаний (N), то есть 𝑃 ~\n",
    "𝑁у\n",
    "𝑁\n",
    ". Чем больше мы проведем \n",
    "испытаний, тем точнее (в идеале) мы определяем численное значение \n",
    "вероятности. Очевидно, что вероятность P удовлетворяет условию: 0 ≤ 𝑃 ≤\n",
    "1.\n"
   ]
  },
  {
   "cell_type": "code",
   "execution_count": 13,
   "id": "55869c2d",
   "metadata": {},
   "outputs": [
    {
     "name": "stdout",
     "output_type": "stream",
     "text": [
      "Количество точек на оси\n",
      "100\n",
      "Позиция сыщика Моркоу\n",
      "50\n",
      "Количество испытаний\n",
      "1000\n",
      "Вероятность нахождения Чиполлино: 0.483\n"
     ]
    }
   ],
   "source": [
    "import random\n",
    "\n",
    "def find_chipollino(N, k, num_trials):\n",
    "    success_count = 0\n",
    "\n",
    "    for _ in range(num_trials):\n",
    "        position = k\n",
    "\n",
    "        while position != 0 and position != N:\n",
    "            position += random.choice([-1, 1])\n",
    "\n",
    "        if position == 0:\n",
    "            success_count += 1\n",
    "\n",
    "    probability = success_count / num_trials\n",
    "    return probability\n",
    "\n",
    "print(\"Количество точек на оси\")\n",
    "N = int(input())  \n",
    "print(\"Позиция сыщика Моркоу\")\n",
    "k = int(input())  \n",
    "print(\"Количество испытаний\")\n",
    "num_trials = int(input())  \n",
    "\n",
    "probability = find_chipollino(N, k, num_trials)\n",
    "print(f\"Вероятность нахождения Чиполлино: {probability}\")"
   ]
  },
  {
   "cell_type": "markdown",
   "id": "6dc1e9c3",
   "metadata": {},
   "source": [
    "Задание 2\n"
   ]
  },
  {
   "cell_type": "markdown",
   "id": "ed1d8005",
   "metadata": {},
   "source": [
    "Пусть имеется “однорукий бандит” – игровой автомат с ручкой, \n",
    "которой его запускают для игры. Считаем (для упрощения), что игра будет \n",
    "типа “в орлянку”, и игрок имеет начальный капитал в одну монету. Игра \n",
    "ведется до тех пор, пока игрок не обанкротится или выиграет N монет. \n",
    "Промоделировать игру для N=10, определить вероятность (шансы) игрока \n",
    "“сорвать указанный куш” и объяснить, почему автомат назвали “бандитом”."
   ]
  },
  {
   "cell_type": "code",
   "execution_count": 14,
   "id": "38801cdf",
   "metadata": {},
   "outputs": [
    {
     "name": "stdout",
     "output_type": "stream",
     "text": [
      "Вероятность выигрыша 10 монет: 0.09922\n"
     ]
    }
   ],
   "source": [
    "import random\n",
    "\n",
    "def simulate_game(N):\n",
    "    wins = 0\n",
    "    total_trials = 100000\n",
    "\n",
    "    for i in range(total_trials):\n",
    "        coins = 1\n",
    "\n",
    "        while coins > 0 and coins < N:\n",
    "            if random.random() < 0.5:\n",
    "                coins += 1\n",
    "            else:\n",
    "                coins -= 1\n",
    "\n",
    "        if coins == N:\n",
    "            wins += 1\n",
    "\n",
    "    probability = wins / total_trials\n",
    "    return probability\n",
    "\n",
    "N = 10\n",
    "probability = simulate_game(N)\n",
    "print(f\"Вероятность выигрыша {N} монет: {probability}\")"
   ]
  },
  {
   "cell_type": "code",
   "execution_count": null,
   "id": "e08ff726",
   "metadata": {},
   "outputs": [],
   "source": []
  }
 ],
 "metadata": {
  "kernelspec": {
   "display_name": "Python 3 (ipykernel)",
   "language": "python",
   "name": "python3"
  },
  "language_info": {
   "codemirror_mode": {
    "name": "ipython",
    "version": 3
   },
   "file_extension": ".py",
   "mimetype": "text/x-python",
   "name": "python",
   "nbconvert_exporter": "python",
   "pygments_lexer": "ipython3",
   "version": "3.11.5"
  }
 },
 "nbformat": 4,
 "nbformat_minor": 5
}
